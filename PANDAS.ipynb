{
 "cells": [
  {
   "cell_type": "code",
   "execution_count": 1,
   "metadata": {},
   "outputs": [
    {
     "ename": "SyntaxError",
     "evalue": "(unicode error) 'unicodeescape' codec can't decode bytes in position 2-3: truncated \\UXXXXXXXX escape (<ipython-input-1-87ca33a3b918>, line 2)",
     "output_type": "error",
     "traceback": [
      "\u001b[1;36m  File \u001b[1;32m\"<ipython-input-1-87ca33a3b918>\"\u001b[1;36m, line \u001b[1;32m2\u001b[0m\n\u001b[1;33m    os.chdir(\"C:\\Users\\Dell\\Documents\\Pandas.xlsx\")\u001b[0m\n\u001b[1;37m             ^\u001b[0m\n\u001b[1;31mSyntaxError\u001b[0m\u001b[1;31m:\u001b[0m (unicode error) 'unicodeescape' codec can't decode bytes in position 2-3: truncated \\UXXXXXXXX escape\n"
     ]
    }
   ],
   "source": [
    "import os\n",
    "os.chdir(\"C:/Users/Dell/Documents/Pandas.xlsx\")\n",
    "\n",
    "import pandas as pd\n",
    "\n",
    "# Read excel\n",
    "df = pd.read_excel('Pandas.xlsx')\n",
    "df = pd.read_excel('Pandas.xlsx', sheet_name='data')\n",
    "df = pd.read_excel('Pandas.xlsx', sheet_name= 1)\n",
    "df = pd.read_excel('Pandas.xlsx', sheet_name='data', index_col=0)\n",
    "df = pd.read_excel('Pandas.xlsx', sheet_name=1, index_col=1)\n",
    "df = pd.read_excel('Pandas.xlsx', sheet_name=1, index_col=1, header=1)\n",
    "df = pd.read_excel('Pandas.xlsx', sheet_name=1, usecols = \"B,C:D\")\n",
    "df = pd.read_excel('Pandas.xlsx', sheet_name=1, skiprows= 3, index_col=0)\n",
    "df = pd.read_excel('Pandas.xlsx', sheet_name=1, header=[0,1,2,3])\n",
    "#multiple header\n",
    "df['Name', 'Bat']\n",
    "\n",
    "# Read CSV\n",
    "df = pd.read_csv('myfile.csv',sep=',')\n",
    "df = pd.read_csv('myfile.csv',sep=',', header=[0,1,2])\n",
    "df = pd.read_csv('myfile.csv',sep=',', header=[0,1,2], index_col=0)\n",
    "\n",
    "\n",
    "# Read txt, json\n",
    "cf = pd.read_csv('myfile.txt',sep=',')\n",
    "cf = pd.read_csv('myfile.json',sep=',')\n",
    "\n",
    "\n",
    "# Write to CSV and excel\n",
    "df.to_csv('maf.csv')\n",
    "df.to_csv('maf.csv', sep=';')\n",
    "df.to_excel('maf.xlsx', sheet_name='myData')\n",
    "\n",
    "\n",
    "#handle NaN\n",
    "df.dropna(how='all', axis=1)\n",
    "df.dropna(axis=0, how = 'any')\n",
    "df.fillna(0)\n",
    "df.fillna(method='bfill')\n",
    "df.fillna(method='ffill')\n",
    "df.fillna(method='ffill', axis=0)\n",
    "df.interpolate(method='linear')\n",
    "df.interpolate(method='polynomial', order=2)\n",
    "df.interpolate(method='spline', order=2)\n",
    "\n",
    "\n",
    "# Next time: Read, MANIPULATE and write to excel\n",
    "\n",
    "## Packages\n",
    "\n",
    "#xlrd\n",
    "#openpyxl\n",
    "#xlwings\n",
    "#csv"
   ]
  },
  {
   "cell_type": "code",
   "execution_count": null,
   "metadata": {},
   "outputs": [],
   "source": []
  }
 ],
 "metadata": {
  "kernelspec": {
   "display_name": "Python 3",
   "language": "python",
   "name": "python3"
  },
  "language_info": {
   "codemirror_mode": {
    "name": "ipython",
    "version": 3
   },
   "file_extension": ".py",
   "mimetype": "text/x-python",
   "name": "python",
   "nbconvert_exporter": "python",
   "pygments_lexer": "ipython3",
   "version": "3.8.3"
  }
 },
 "nbformat": 4,
 "nbformat_minor": 4
}
